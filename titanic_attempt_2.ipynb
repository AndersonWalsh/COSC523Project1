{
 "cells": [
  {
   "cell_type": "markdown",
   "id": "6389c2b0-7ddf-4ea1-abcb-3ebc00434e71",
   "metadata": {
    "id": "aN4pQLaqteGl",
    "tags": []
   },
   "source": [
    "Titanic Survival Project "
   ]
  },
  {
   "cell_type": "code",
   "execution_count": null,
   "id": "94a2d95f-b643-4d55-8a73-92ef0e85b8c2",
   "metadata": {
    "colab": {
     "base_uri": "https://localhost:8080/",
     "height": 1000
    },
    "id": "BCGstdnXgOlj",
    "outputId": "539b5f83-7d76-4672-e7df-8d672c4acbf6"
   },
   "outputs": [],
   "source": [
    "import seaborn as sns\n",
    "import pandas as pd\n",
    "import numpy as np\n",
    "import matplotlib.pyplot as plt\n",
    "from sklearn.preprocessing import StandardScaler\n",
    "\n",
    "df_train = pd.read_csv(\"train.csv\")\n",
    "df_test = pd.read_csv(\"test.csv\")\n",
    "\n",
    "\n",
    "print(\"==> Data fields with null information:\")\n",
    "print(df_train.isnull().sum())\n",
    "print(\"----------------------------------------\")\n",
    "\n",
    "outliers = df_train[(df_train['Age'] > 15)]\n",
    "\n",
    "plt.figure(figsize=(6, 2))\n",
    "sns.heatmap(df_train.isnull(), cbar=False, cmap='viridis')\n",
    "plt.xticks(rotation=45)\n",
    "plt.xlabel('Variable')\n",
    "plt.ylabel('Count of Missing Values')\n",
    "plt.title('Missing Values in Data')\n",
    "plt.show()\n",
    "\n",
    "print(\"----------------------------------------\")\n",
    "print(\"Table of outlier values to assess:\")\n",
    "\n",
    "q1 = df_train['Age'].quantile(0.25)\n",
    "q2 = df_train['Age'].quantile(0.75)\n",
    "lb = q1 - (q2-q1) * 1.5\n",
    "ub = q2 + (q2-q1) * 1.5\n",
    "outliers = df_train[(df_train['Age'] > ub) | (df_train['Age'] < lb)]\n",
    "# Display the outliers\n",
    "print(outliers)\n",
    "print(\"----------------------------------------\")\n",
    "\n",
    "\n",
    "\n",
    "plt.figure(figsize=(6,3))\n",
    "plt.boxplot([df_train[\"Age\"].dropna(), outliers[\"Age\"]], labels=['All Data', 'Outliers'], vert=False)\n",
    "plt.xlabel('Age')\n",
    "plt.title('Age Distribution with an without Outliers removed')\n",
    "plt.show()"
   ]
  },
  {
   "cell_type": "code",
   "execution_count": null,
   "id": "9eed0724-7338-4a1c-b906-fad29799b954",
   "metadata": {
    "colab": {
     "base_uri": "https://localhost:8080/"
    },
    "id": "x4kqzoxu1j3I",
    "outputId": "981abda0-5233-4bbf-ef6f-bcd1490a3752"
   },
   "outputs": [],
   "source": [
    "import pandas as pd\n",
    "from sklearn.linear_model import LogisticRegression\n",
    "from sklearn.model_selection import train_test_split\n",
    "from sklearn.impute import SimpleImputer\n",
    "from sklearn.metrics import accuracy_score\n",
    "from sklearn.metrics import confusion_matrix\n",
    "\n",
    "\n",
    "features = ['Sex', 'Age', 'Fare', 'Pclass']\n",
    "X = df_train[features]\n",
    "y = df_train['Survived']\n",
    "\n",
    "\n",
    "features = ['Sex', 'Age', 'Fare', 'Pclass'] # Select features \n",
    "X = df_train[features]                      # Prepare features\n",
    "y = df_train['Survived']\n",
    "\n",
    "X_encoded = pd.get_dummies(X, drop_first=True) # one-hot encoding on categorical\n",
    "\n",
    "# Handle missing values \n",
    "imputer = SimpleImputer(strategy='mean')  ## imputing with the mean\n",
    "X_imputed = pd.DataFrame(imputer.fit_transform(X_encoded), columns=X_encoded.columns)\n",
    "\n",
    "# Split train/test\n",
    "X_train, X_test, y_train, y_test = train_test_split(X_imputed, y, test_size=0.2, random_state=42)\n",
    "X_imputed = pd.DataFrame(imputer.fit_transform(X_encoded), columns=X_encoded.columns)\n",
    "\n",
    "# Create and train the logistic regression model\n",
    "model = LogisticRegression()\n",
    "model.fit(X_train, y_train)\n",
    "\n",
    "# Make predictions on the test set\n",
    "y_pred = model.predict(X_test)\n",
    "\n",
    "\n",
    "accuracy = accuracy_score(y_test, y_pred)\n",
    "print(\"Accuracy:\", round(accuracy,0))\n",
    "\n",
    "confusion = confusion_matrix(y_test, y_pred)\n",
    "print(\"Confusion Matrix:\")\n",
    "print(confusion)"
   ]
  },
  {
   "cell_type": "code",
   "execution_count": null,
   "id": "7f33c26f",
   "metadata": {},
   "outputs": [],
   "source": [
    "X = df_test[features]\n",
    "X_encoded = pd.get_dummies(X, drop_first=True) # one-hot encoding on categorical\n",
    "\n",
    "# Handle missing values \n",
    "imputer = SimpleImputer(strategy='mean')  ## imputing with the mean\n",
    "X_imputed = pd.DataFrame(imputer.fit_transform(X_encoded), columns=X_encoded.columns)\n",
    "y_pred = model.predict(X_imputed)\n",
    "print(y_pred)"
   ]
  },
  {
   "cell_type": "code",
   "execution_count": 33,
   "id": "d96e37f5",
   "metadata": {},
   "outputs": [],
   "source": [
    "import csv\n",
    "\n",
    "with open(\"predictions.csv\", mode='w', newline='') as file:\n",
    "    writer = csv.writer(file)\n",
    "    \n",
    "    # Write the header row (optional)\n",
    "    writer.writerow([\"PassengerId\", \"Survived\"])\n",
    "    \n",
    "    # Write the data rows by zipping the lists\n",
    "    for item1, item2 in zip(df_test[\"PassengerId\"], y_pred):\n",
    "        writer.writerow([item1, item2])"
   ]
  },
  {
   "cell_type": "markdown",
   "id": "e0cef933-0c7e-402e-ae0e-794d65c6682b",
   "metadata": {
    "id": "palnfXw0T_Lq"
   },
   "source": [
    "**`Stage 5: Visualization`**"
   ]
  },
  {
   "cell_type": "code",
   "execution_count": null,
   "id": "f46aade3-a3a0-469c-8101-0dcdeb762f93",
   "metadata": {
    "colab": {
     "base_uri": "https://localhost:8080/",
     "height": 487
    },
    "id": "fpgXuyKy6SFT",
    "outputId": "ffe8908f-a902-430e-881f-d8e1638565ac"
   },
   "outputs": [],
   "source": [
    "import numpy as np\n",
    "import matplotlib.pyplot as plt\n",
    "\n",
    "# Define the confusion matrix\n",
    "confusion_matrix = np.array(confusion)\n",
    "\n",
    "# Define the class labels\n",
    "classes = ['Not Survived', 'Survived']\n",
    "\n",
    "# Plot the confusion matrix\n",
    "plt.imshow(confusion_matrix, interpolation='nearest', cmap=plt.cm.Blues)\n",
    "plt.title('Confusion Matrix')\n",
    "plt.colorbar()\n",
    "tick_marks = np.arange(len(classes))\n",
    "plt.xticks(tick_marks, classes)\n",
    "plt.yticks(tick_marks, classes)\n",
    "\n",
    "# Label the matrix cells\n",
    "thresh = confusion_matrix.max() / 2.\n",
    "for i, j in np.ndindex(confusion_matrix.shape):\n",
    "    plt.text(j, i, format(confusion_matrix[i, j], 'd'),\n",
    "             horizontalalignment=\"center\",\n",
    "             color=\"white\" if confusion_matrix[i, j] > thresh else \"black\")\n",
    "\n",
    "# Add axis labels\n",
    "plt.xlabel('Predicted label')\n",
    "plt.ylabel('True label')\n",
    "plt.tight_layout()\n",
    "\n",
    "# Show the plot\n",
    "plt.show()\n"
   ]
  }
 ],
 "metadata": {
  "kernelspec": {
   "display_name": "Python 3 (ipykernel)",
   "language": "python",
   "name": "python3"
  },
  "language_info": {
   "codemirror_mode": {
    "name": "ipython",
    "version": 3
   },
   "file_extension": ".py",
   "mimetype": "text/x-python",
   "name": "python",
   "nbconvert_exporter": "python",
   "pygments_lexer": "ipython3",
   "version": "3.11.6"
  }
 },
 "nbformat": 4,
 "nbformat_minor": 5
}
